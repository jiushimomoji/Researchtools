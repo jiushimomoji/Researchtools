{
 "cells": [
  {
   "cell_type": "markdown",
   "metadata": {
    "slideshow": {
     "slide_type": "slide"
    }
   },
   "source": [
    "# 现代科研兵器谱 \n",
    ">- 工欲善其事，必先利其器\n",
    ">- 事与器相辅相成"
   ]
  },
  {
   "cell_type": "markdown",
   "metadata": {
    "slideshow": {
     "slide_type": "subslide"
    },
    "toc": true
   },
   "source": [
    "<h1>Table of Contents<span class=\"tocSkip\"></span></h1>\n",
    "<div class=\"toc\"><ul class=\"toc-item\"><li><span><a href=\"#现代科研兵器谱\" data-toc-modified-id=\"现代科研兵器谱-1\"><span class=\"toc-item-num\">1&nbsp;&nbsp;</span>现代科研兵器谱</a></span><ul class=\"toc-item\"><li><span><a href=\"#文本编辑\" data-toc-modified-id=\"文本编辑-1.1\"><span class=\"toc-item-num\">1.1&nbsp;&nbsp;</span>文本编辑</a></span><ul class=\"toc-item\"><li><span><a href=\"#可见即可得的文本编辑器\" data-toc-modified-id=\"可见即可得的文本编辑器-1.1.1\"><span class=\"toc-item-num\">1.1.1&nbsp;&nbsp;</span>可见即可得的文本编辑器</a></span></li><li><span><a href=\"#TeX-语言实现\" data-toc-modified-id=\"TeX-语言实现-1.1.2\"><span class=\"toc-item-num\">1.1.2&nbsp;&nbsp;</span>TeX 语言实现</a></span></li></ul></li><li><span><a href=\"#文献管理\" data-toc-modified-id=\"文献管理-1.2\"><span class=\"toc-item-num\">1.2&nbsp;&nbsp;</span>文献管理</a></span></li><li><span><a href=\"#数据处理与绘图\" data-toc-modified-id=\"数据处理与绘图-1.3\"><span class=\"toc-item-num\">1.3&nbsp;&nbsp;</span>数据处理与绘图</a></span></li><li><span><a href=\"#R包管理&amp;代码管理\" data-toc-modified-id=\"R包管理&amp;代码管理-1.4\"><span class=\"toc-item-num\">1.4&nbsp;&nbsp;</span>R包管理&amp;代码管理</a></span></li><li><span><a href=\"#学术交流&amp;数据分享\" data-toc-modified-id=\"学术交流&amp;数据分享-1.5\"><span class=\"toc-item-num\">1.5&nbsp;&nbsp;</span>学术交流&amp;数据分享</a></span></li><li><span><a href=\"#Mine\" data-toc-modified-id=\"Mine-1.6\"><span class=\"toc-item-num\">1.6&nbsp;&nbsp;</span>Mine</a></span></li></ul></li></ul></div>"
   ]
  },
  {
   "cell_type": "markdown",
   "metadata": {
    "slideshow": {
     "slide_type": "slide"
    }
   },
   "source": [
    "## 文本编辑\n",
    "1. 支持在线协作、评论与修订\n",
    "- 支持常见文献管理工具\n",
    "- 支持期刊样式排版\n",
    "- 支持跨平台\n",
    "- 支持版本控制\n",
    "- 容易上手\n"
   ]
  },
  {
   "cell_type": "markdown",
   "metadata": {
    "slideshow": {
     "slide_type": "subslide"
    }
   },
   "source": [
    "### 可见即可得的文本编辑器\n",
    "本地编辑:\n",
    "  1. Word(Windows),office 套装\n",
    "  - Pages(Mac),Mac 套装\n",
    "  - LibreOffice Writer(Ubuntu),Linux 套装 \n",
    "  \n",
    "在线协作:\n",
    "  1. 谷歌文档、\n",
    "  - 石墨文档、\n",
    "  - 腾讯文档等 \n",
    ">- 对于需要协作完成的论文，在线协作文档极大方便了实时交互与版本控制。\n",
    ">- 利用基于Git的GitHub也可以实现在线协作与修订，不过门槛比较高，但有希望成为一些期刊今后的投稿系统原型。\n"
   ]
  },
  {
   "cell_type": "markdown",
   "metadata": {
    "slideshow": {
     "slide_type": "subslide"
    }
   },
   "source": [
    "### TeX 语言实现\n",
    "本地编辑:\n",
    "- 套装:\n",
    "  1. Texlive or Ctex套装for(Windows)\n",
    "  - MacTeX套装for(Mac)\n",
    "  - Texlive套装for(Ubuntu)\n",
    "- 编辑器：\n",
    "\n",
    "        初学者：Texmaker > TeXworks > TeXstudio\n",
    "        高级用户：TeXstudio > Texmaker > TeXworks\n",
    "  \n",
    "在线协作:\n",
    "  1. Overleaf\n",
    "  - sharelatex\n",
    "简化版本：\n",
    "  1. Markdown\n",
    "  - Pandoc\n",
    "  >理论上你可以使用 Markdown 来写论文，不过这需要你的编辑器支持一些额外的功能。"
   ]
  },
  {
   "cell_type": "markdown",
   "metadata": {
    "slideshow": {
     "slide_type": "slide"
    }
   },
   "source": [
    "## 文献管理\n",
    "1. 支持常见文本编辑器\n",
    "- 支持在线文献采集\n",
    "- 支持文献库协作与共享\n",
    "- 支持文献信息学探索\n",
    "- 容易上手"
   ]
  },
  {
   "cell_type": "markdown",
   "metadata": {
    "slideshow": {
     "slide_type": "subslide"
    }
   },
   "source": [
    "老牌的文献管理工具:\n",
    "1. Endnote\n",
    "- NoteExpress则属于国产软件，据说对中文期刊格式支持更好\n",
    "- 类似的还有Mendeley\n",
    "- 服务 TeX 里 BibTex 的 JabRef 与Mac OS 下的Papers\n",
    "\n",
    "互联网精神的产物：\n",
    "1. Zotero本身就是基于火狐浏览器\n",
    "- Paperpile则属于基于谷歌文档的应用\n",
    "- DOI与crossref的出现则更方便了文献的搜索定位\n",
    "\n",
    ">基于互联网的团队化文献管理正在成为趋势。"
   ]
  },
  {
   "cell_type": "markdown",
   "metadata": {
    "slideshow": {
     "slide_type": "slide"
    }
   },
   "source": [
    "## 数据处理与绘图\n",
    "1. 支持科研用统计分析\n",
    "- 图片默认输出美观大方支持绘图自定义\n",
    "- 具备可重复性的宏功能或数据处理脚本\n",
    "- 容易上手"
   ]
  },
  {
   "cell_type": "markdown",
   "metadata": {
    "slideshow": {
     "slide_type": "subslide"
    }
   },
   "source": [
    "所见即所得的数据处理与绘图软件:\n",
    "1. Excel、Origin、SigmaPlot 与SPSS 是科研中用的比较多的\n",
    "- 这些软件都是图形界面操作且都收费，\n",
    "- 其内置很多现成的分析模块应对实际科研问题，但这些简化会导致使用者知其然不知其所以然，在分析方法使用上陷入误区。\n",
    "- 容易陷入哪个分析一定要用哪个软件做的误区，其实多数数据分析软件的算法都差不多，只不过默认值可能不同，有些功能则藏的比较深，此时请善用搜索引擎。\n",
    "\n",
    "编程分析与绘图:\n",
    "1. IDL、R、Python、Matlab 与SAS 都是这类工具的代表，应该说掌握其中任意一个就足够应对科研中需要的数据分析了\n",
    "- 不过通常这类工具比较难学，最好是配合数据分析方法的学习同步掌握，而且要通过案例来理解方法，累积经验。\n",
    "\n",
    "特殊图形：\n",
    "1. 百度脑图可以用来生成流程图或思维导图、\n",
    "- Autodraw可以用来画简笔画、\n",
    "- plotly可以在线完成绘图等、\n",
    "- 甚至网上还有直接上传数据后自动猜测你需要进行分析与制图的Charted。"
   ]
  },
  {
   "cell_type": "markdown",
   "metadata": {
    "slideshow": {
     "slide_type": "slide"
    }
   },
   "source": [
    "## R包管理&代码管理\n",
    "R包管理:\n",
    "1. Rstiduo提供了包开发的模版\n",
    "- 使用roxygen2来编写开发文档\n",
    "- 用Rmarkdown来写小品文方便读者上手\n",
    "- 使用testthat来进行代码的单元测试\n",
    "- 可以用Profvis进行可视化而集成在线测试\n",
    "- 通过travis-ci或appveyor来分别对R包进行Linux与Windows系统下的测试\n",
    "- 通过 pkgdown来制作网站并通过learnr 来制作交互式教程\n",
    "\n",
    "代码管理:\n",
    ">后续我们会看到所有学科都会不可逆引入编程，所以代码管理工具也非常重要\n",
    "\n",
    "1. Github与Bitbucket都是非常实用的在线代码管理与版本控制平台\n",
    "- Rmarkdown与Jupyter Notebook等工具背后提倡的文学化编程也是很重要的代码开发工具\n",
    "- Docker image等完整的数据分析环境也可能成为现代科研的主流\n",
    ">代码的编写要能站到巨人肩上：Good writers borrow from other authors, great authors steal outright"
   ]
  },
  {
   "cell_type": "markdown",
   "metadata": {
    "slideshow": {
     "slide_type": "slide"
    }
   },
   "source": [
    "## 学术交流&数据分享\n",
    "学术交流:\n",
    ">主流趋势包括论文预印本服务器、开放获取与线上学术交流\n",
    "\n",
    "1. 比较知名的预印本服务器包括偏数学物理计算机科学的arxiv、偏生命科学的biorxiv 与偏化学的chemrxiv。国内也有中科院的科  技论文预发布平台来服务国内科研人员。很多期刊出版方也在推广自己的预印本服务器来吸引高水平研究，所以可酌情选择。\n",
    "2. 开放获取要求研究工作可以公开让大众阅读。要实现开放获取或者说透明科研，f1000research、PeerJ还有Plos都是还不错的先行者，它们在实践一些新理念，不过显然并不便宜。\n",
    "3. 线上学术交流除了期刊外，实际还要包括学术博客、多媒体展示、学术出版与网络身份。\n",
    "   1. 制作学术博客的工具可以直接借助平台例如科学网博客，也可以自己搭建例如使用Wordpress、Blogdown或者Netlify等工具。\n",
    "   - 幻灯片制作也最好使用网页模式方便交流，xaringan、learnr等其他基于Markdown语言的幻灯片制作工具可以满足要求。\n",
    "   - 学术出版物则可以通过bookdown或rticles等工具来完成。\n",
    "   - 线上的学术身份识别对于存在大量重名现象的中国科研人员也是很有必要的，ORCID、Researcher ID、Scopus Auther ID、谷歌学术个人主页及国内的百度学术个人主页都是不错的网上学术名片。\n",
    "   - 而在线交流的手段则可通过ResearchGate、Academia、Linkedin及twitter来完成。\n",
    "\n",
    "数据分享:\n",
    ">数据分享是一个很重要现代科研特征，越来越多的科研成果正在开放自己的原始数据供社区推动学科进步。\n",
    "\n",
    "1. 其中，figshare、Open Science Framework、Dataverse与Zenodo都是这一潮流的引领者。\n",
    "- 良好的数据分享不仅包含原始数据，还要包括处理后数据、数据收集相关信息与处理代码，另外对于共享数据的使用也要尊重数据生产者。\n"
   ]
  },
  {
   "cell_type": "markdown",
   "metadata": {
    "slideshow": {
     "slide_type": "slide"
    }
   },
   "source": [
    "## Mine\n",
    "文本编辑:\n",
    "1. Texlive+TeXstudio for paper\n",
    "- 有道云笔记 for notes\n",
    "- Markdown for Science and technology documents\n",
    "- sharelatex for online\n",
    "\n",
    "文献管理:\n",
    "1.  JabRef for paper\n",
    "- Paperpile谷歌文档 for literature management and paper\n",
    "- ADS for searching \n",
    "- DOI与arXiv identifier文献的搜索定位\n",
    "\n",
    "数据处理与绘图:\n",
    "1. IDL、Python、Forthon for data\n",
    "- 百度脑图可以用来生成流程图或思维导图\n",
    "- 卡通图：inkscape\n",
    "- 三维可视化：paraview\n",
    "\n",
    "R包管理&代码管理：\n",
    "1. Jupyter Notebook Pytran for codes\n",
    "- xcode for codes\n",
    "- Github for packages\n",
    "- Rstiduo \n",
    "\n",
    "学术交流&数据分享：\n",
    "1. Ads 与 学术期刊 \n",
    "- arxiv\n",
    "- 学术博客\n",
    "- 学术个人主页\n"
   ]
  },
  {
   "cell_type": "code",
   "execution_count": null,
   "metadata": {},
   "outputs": [],
   "source": []
  }
 ],
 "metadata": {
  "celltoolbar": "Slideshow",
  "gist": {
   "data": {
    "description": "Desktop/ltjupyter/现代科研兵器谱.ipynb",
    "public": true
   },
   "id": ""
  },
  "kernelspec": {
   "display_name": "Python 3",
   "language": "python",
   "name": "python3"
  },
  "language_info": {
   "codemirror_mode": {
    "name": "ipython",
    "version": 3
   },
   "file_extension": ".py",
   "mimetype": "text/x-python",
   "name": "python",
   "nbconvert_exporter": "python",
   "pygments_lexer": "ipython3",
   "version": "3.6.3"
  },
  "latex_envs": {
   "LaTeX_envs_menu_present": true,
   "autoclose": false,
   "autocomplete": true,
   "bibliofile": "biblio.bib",
   "cite_by": "apalike",
   "current_citInitial": 1,
   "eqLabelWithNumbers": true,
   "eqNumInitial": 1,
   "hotkeys": {
    "equation": "Ctrl-E",
    "itemize": "Ctrl-I"
   },
   "labels_anchors": false,
   "latex_user_defs": false,
   "report_style_numbering": false,
   "user_envs_cfg": false
  },
  "nbTranslate": {
   "displayLangs": [
    ""
   ],
   "hotkey": "alt-t",
   "langInMainMenu": true,
   "sourceLang": "Chinese Sim",
   "targetLang": "",
   "useGoogleTranslate": true
  },
  "toc": {
   "base_numbering": 1,
   "nav_menu": {},
   "number_sections": true,
   "sideBar": true,
   "skip_h1_title": false,
   "title_cell": "Table of Contents",
   "title_sidebar": "Contents",
   "toc_cell": true,
   "toc_position": {},
   "toc_section_display": true,
   "toc_window_display": false
  }
 },
 "nbformat": 4,
 "nbformat_minor": 2
}
